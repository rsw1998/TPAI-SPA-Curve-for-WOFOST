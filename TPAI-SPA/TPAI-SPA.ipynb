{
 "cells": [
  {
   "cell_type": "code",
   "execution_count": 1057,
   "metadata": {},
   "outputs": [],
   "source": [
    "import sys\n",
    "import os\n",
    "import pcse\n",
    "import numpy as np\n",
    "from numpy import *\n",
    "import matplotlib.pyplot as plt"
   ]
  },
  {
   "cell_type": "code",
   "execution_count": 1058,
   "metadata": {},
   "outputs": [],
   "source": [
    "data_dir = r'E:\\23年调参\\调参\\44'"
   ]
  },
  {
   "cell_type": "code",
   "execution_count": 1059,
   "metadata": {},
   "outputs": [],
   "source": [
    "from pcse.fileinput import CABOFileReader\n",
    "soilfile = os.path.join(data_dir, '土壤44.soil')"
   ]
  },
  {
   "cell_type": "code",
   "execution_count": 1060,
   "metadata": {},
   "outputs": [],
   "source": [
    "soildata = CABOFileReader(soilfile)\n",
    "from pcse.util import WOFOST71SiteDataProvider"
   ]
  },
  {
   "cell_type": "code",
   "execution_count": 1061,
   "metadata": {},
   "outputs": [
    {
     "name": "stdout",
     "output_type": "stream",
     "text": [
      "Unknown parameter values provided to WOFOSTSiteDataProvider: {'CO2': 360}\n"
     ]
    }
   ],
   "source": [
    "sitedata = WOFOST71SiteDataProvider(WAV=55, CO2=360)"
   ]
  },
  {
   "cell_type": "code",
   "execution_count": 1062,
   "metadata": {},
   "outputs": [],
   "source": [
    "from pcse.fileinput import YAMLAgroManagementReader\n",
    "agromanagement_file = os.path.join(data_dir, '管理44.agro')\n",
    "agromanagement = YAMLAgroManagementReader(agromanagement_file)"
   ]
  },
  {
   "cell_type": "code",
   "execution_count": 1063,
   "metadata": {},
   "outputs": [],
   "source": [
    "from pcse.fileinput import ExcelWeatherDataProvider\n",
    "weatherdataprovider = ExcelWeatherDataProvider(os.path.join(data_dir, \"44.xlsx\"))"
   ]
  },
  {
   "cell_type": "code",
   "execution_count": 1064,
   "metadata": {},
   "outputs": [],
   "source": [
    "from pcse.base import ParameterProvider\n",
    "from pcse.models import Wofost72_WLP_FD\n",
    "cropfile = os.path.join(data_dir, '作物44.crop')\n",
    "cropdata = CABOFileReader(cropfile)\n",
    "parameters = ParameterProvider(cropdata=cropdata, soildata=soildata, sitedata=sitedata)"
   ]
  },
  {
   "cell_type": "code",
   "execution_count": 1065,
   "metadata": {},
   "outputs": [],
   "source": [
    "import datetime \n",
    "dob = [datetime.date(2023,1,14),datetime.date(2023,2,6),datetime.date(2023,3,4),datetime.date(2023,3,28),datetime.date(2023,4,20)]\n",
    "xob = [5.40,5.59,6.49,7.17,5.70]\n",
    "tagp_true = [5015,7463,7672,11173,12103]\n",
    "twso_true = [0,0,224,2321,6218]\n",
    "nob = len(dob)"
   ]
  },
  {
   "cell_type": "code",
   "execution_count": 1066,
   "metadata": {},
   "outputs": [],
   "source": [
    "wofsim = Wofost72_WLP_FD(parameters, weatherdataprovider, agromanagement)"
   ]
  },
  {
   "cell_type": "code",
   "execution_count": 1067,
   "metadata": {
    "scrolled": true
   },
   "outputs": [],
   "source": [
    "wofsim.run_till_terminate()\n",
    "output = wofsim.get_output()\n",
    "ds = [t[\"day\"] for t in output]\n",
    "xs =  [t[\"LAI\"] for t in output]\n",
    "dvs =  [t[\"DVS\"] for t in output]\n",
    "tagp =  [t[\"TAGP\"] for t in output]\n",
    "twso =  [t[\"TWSO\"] for t in output]"
   ]
  },
  {
   "cell_type": "code",
   "execution_count": 1068,
   "metadata": {},
   "outputs": [
    {
     "name": "stderr",
     "output_type": "stream",
     "text": [
      "D:\\Program Files\\ArcGIS\\Pro\\bin\\Python\\envs\\arcgispro-py3\\lib\\site-packages\\ipykernel_launcher.py:9: FutureWarning: As the xlwt package is no longer maintained, the xlwt engine will be removed in a future version of pandas. This is the only engine in pandas that supports writing in the xls format. Install openpyxl and write to an xlsx file instead. You can set the option io.excel.xls.writer to 'xlwt' to silence this warning. While this option is deprecated and will also raise a warning, it can be globally set and the warning suppressed.\n",
      "  if __name__ == '__main__':\n"
     ]
    }
   ],
   "source": [
    "#输出模型数据表格\n",
    "import pandas as pd\n",
    "\n",
    "output_file_path = r'E:\\23年调参\\调参\\44\\wofost_results.xls'\n",
    "if os.path.exists(output_file_path):\n",
    "    os.remove(output_file_path)\n",
    "\n",
    "df = pd.DataFrame(output)\n",
    "df.to_excel(output_file_path, index=False)"
   ]
  },
  {
   "cell_type": "code",
   "execution_count": 1069,
   "metadata": {
    "scrolled": false
   },
   "outputs": [
    {
     "data": {
      "image/png": "[encoded data removed]",
      "text/plain": [
       "<Figure size 432x288 with 1 Axes>"
      ]
     },
     "metadata": {
      "needs_background": "light"
     },
     "output_type": "display_data"
    }
   ],
   "source": [
    "plt.plot(ds, xs,'b')\n",
    "plt.plot(dob, xob,'g*')\n",
    "plt.title(\"LAI\")\n",
    "plt.show()"
   ]
  },
  {
   "cell_type": "code",
   "execution_count": 1070,
   "metadata": {},
   "outputs": [],
   "source": [
    "f = open(r'LAI数据.txt',\"r+\")\n",
    "f.truncate()\n",
    "data = np.column_stack((ds, xs))  # 将x和y合并为一个数组\n",
    "np.savetxt('LAI数据.txt', data ,fmt = '%s')\n",
    "f.close()"
   ]
  },
  {
   "cell_type": "code",
   "execution_count": 1071,
   "metadata": {},
   "outputs": [
    {
     "data": {
      "image/png": "[encoded data removed]",
      "text/plain": [
       "<Figure size 432x288 with 1 Axes>"
      ]
     },
     "metadata": {
      "needs_background": "light"
     },
     "output_type": "display_data"
    }
   ],
   "source": [
    "import pandas as pd\n",
    "from scipy.signal import savgol_filter as sg\n",
    "import numpy as np\n",
    "from matplotlib import pyplot as plt\n",
    "from datetime import datetime\n",
    "\n",
    "# 读取数据文件\n",
    "path = r'LAI数据.txt'\n",
    "txttable = pd.read_csv(path, sep=' ', header=None, names=['Date', 'Value'])\n",
    "\n",
    "# 提取日期和数值数据\n",
    "dates = txttable['Date'].tolist()\n",
    "values = txttable['Value'].tolist()\n",
    "\n",
    "# 将日期数据转换为datetime对象\n",
    "dates = [datetime.strptime(d, '%Y-%m-%d') for d in dates]\n",
    "\n",
    "# 按照日期排序\n",
    "dates, values = zip(*sorted(zip(dates, values)))\n",
    "\n",
    "# SG滤波\n",
    "res_sg = sg(x=values, window_length=31, polyorder=1)\n",
    "\n",
    "# 绘制原始数据和滤波结果\n",
    "fig, ax = plt.subplots(figsize=(6, 4))\n",
    "# ax.plot(dates, values, 'g', label='Original Data')\n",
    "ax.plot(dates, res_sg,'b')\n",
    "ax.plot(dob, xob,'g*')\n",
    "plt.show()"
   ]
  },
  {
   "cell_type": "code",
   "execution_count": 1072,
   "metadata": {},
   "outputs": [
    {
     "data": {
      "image/png": "[encoded data removed]",
      "text/plain": [
       "<Figure size 432x288 with 1 Axes>"
      ]
     },
     "metadata": {
      "needs_background": "light"
     },
     "output_type": "display_data"
    }
   ],
   "source": [
    "plt.plot(dob, tagp_true,'g*')\n",
    "plt.plot(ds, tagp,'b')\n",
    "plt.title(\"TAGP\")\n",
    "plt.show()"
   ]
  },
  {
   "cell_type": "code",
   "execution_count": 1073,
   "metadata": {},
   "outputs": [
    {
     "data": {
      "image/png": "[encoded data removed]",
      "text/plain": [
       "<Figure size 432x288 with 1 Axes>"
      ]
     },
     "metadata": {
      "needs_background": "light"
     },
     "output_type": "display_data"
    }
   ],
   "source": [
    "plt.plot(dob, twso_true,'g*')\n",
    "plt.plot(ds, twso,'b')\n",
    "plt.title(\"TWSO\")\n",
    "plt.show()"
   ]
  },
  {
   "cell_type": "code",
   "execution_count": 1076,
   "metadata": {},
   "outputs": [
    {
     "data": {
      "image/png": "[encoded data removed]",
      "text/plain": [
       "<Figure size 432x288 with 1 Axes>"
      ]
     },
     "metadata": {
      "needs_background": "light"
     },
     "output_type": "display_data"
    }
   ],
   "source": [
    "dvs =  [t[\"DVS\"] for t in output]\n",
    "plt.plot(ds, dvs,'b')\n",
    "plt.title(\"DVS\")\n",
    "plt.show()"
   ]
  },
  {
   "cell_type": "code",
   "execution_count": null,
   "metadata": {},
   "outputs": [],
   "source": []
  }
 ],
 "metadata": {
  "kernelspec": {
   "display_name": "Python 3",
   "language": "python",
   "name": "python3"
  },
  "language_info": {
   "codemirror_mode": {
    "name": "ipython",
    "version": 3
   },
   "file_extension": ".py",
   "mimetype": "text/x-python",
   "name": "python",
   "nbconvert_exporter": "python",
   "pygments_lexer": "ipython3",
   "version": "3.7.10"
  }
 },
 "nbformat": 4,
 "nbformat_minor": 4
}
