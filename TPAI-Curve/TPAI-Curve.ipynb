{
 "cells": [
  {
   "cell_type": "code",
   "execution_count": 209,
   "metadata": {},
   "outputs": [
    {
     "name": "stdout",
     "output_type": "stream",
     "text": [
      "\f",
      "\n"
     ]
    }
   ],
   "source": [
    "%reset -f\n",
    "import sys\n",
    "import os\n",
    "import pcse\n",
    "import numpy as np\n",
    "from numpy import *\n",
    "import matplotlib.pyplot as plt\n",
    "plt.close(\"all\")\n",
    "%clear"
   ]
  },
  {
   "cell_type": "code",
   "execution_count": 210,
   "metadata": {},
   "outputs": [],
   "source": [
    "data_dir = r'E:\\23年调参\\拟合调参\\44'"
   ]
  },
  {
   "cell_type": "code",
   "execution_count": 211,
   "metadata": {},
   "outputs": [],
   "source": [
    "from pcse.fileinput import CABOFileReader\n",
    "soilfile = os.path.join(data_dir, '土壤44.soil')"
   ]
  },
  {
   "cell_type": "code",
   "execution_count": 212,
   "metadata": {},
   "outputs": [],
   "source": [
    "soildata = CABOFileReader(soilfile)\n",
    "from pcse.util import WOFOST71SiteDataProvider"
   ]
  },
  {
   "cell_type": "code",
   "execution_count": 213,
   "metadata": {},
   "outputs": [
    {
     "name": "stdout",
     "output_type": "stream",
     "text": [
      "Unknown parameter values provided to WOFOSTSiteDataProvider: {'CO2': 360}\n"
     ]
    }
   ],
   "source": [
    "sitedata = WOFOST71SiteDataProvider(WAV=30, CO2=360)"
   ]
  },
  {
   "cell_type": "code",
   "execution_count": 214,
   "metadata": {},
   "outputs": [],
   "source": [
    "from pcse.fileinput import YAMLAgroManagementReader\n",
    "agromanagement_file = os.path.join(data_dir, '管理44.agro')\n",
    "agromanagement = YAMLAgroManagementReader(agromanagement_file)"
   ]
  },
  {
   "cell_type": "code",
   "execution_count": 215,
   "metadata": {},
   "outputs": [],
   "source": [
    "from pcse.fileinput import ExcelWeatherDataProvider\n",
    "weatherdataprovider = ExcelWeatherDataProvider(os.path.join(data_dir, \"44.xlsx\"))"
   ]
  },
  {
   "cell_type": "code",
   "execution_count": 216,
   "metadata": {},
   "outputs": [],
   "source": [
    "from pcse.base import ParameterProvider\n",
    "from pcse.models import Wofost72_WLP_FD\n",
    "cropfile = os.path.join(data_dir, '作物44.crop')\n",
    "cropdata = CABOFileReader(cropfile)\n",
    "parameters = ParameterProvider(cropdata=cropdata, soildata=soildata, sitedata=sitedata)"
   ]
  },
  {
   "cell_type": "code",
   "execution_count": 217,
   "metadata": {},
   "outputs": [],
   "source": [
    "di_days=[120,121,122,123,124,125,126,127,128,129,130,131,132,133,134,135,136,137,138,139,140,141,142,143,144,145,146,147,148,149,150,151,152,153,154,155,156,157,158,159,160,161,162,163,164,165,166,167,168,169,170,171,172,173,174,175,176]\n",
    "import datetime \n",
    "dob = [datetime.date(2023,3,10),datetime.date(2023,3,11),datetime.date(2023,3,12),datetime.date(2023,3,13),datetime.date(2023,3,14),datetime.date(2023,3,15),datetime.date(2023,3,16),datetime.date(2023,3,17),datetime.date(2023,3,18),datetime.date(2023,3,19),datetime.date(2023,3,20),datetime.date(2023,3,21),datetime.date(2023,3,22),datetime.date(2023,3,23),datetime.date(2023,3,24),datetime.date(2023,3,25),datetime.date(2023,3,26),datetime.date(2023,3,27),datetime.date(2023,3,28),datetime.date(2023,3,29),datetime.date(2023,3,30),datetime.date(2023,3,31),datetime.date(2023,4,1),datetime.date(2023,4,2),datetime.date(2023,4,3),datetime.date(2023,4,4),datetime.date(2023,4,5),datetime.date(2023,4,6),datetime.date(2023,4,7),datetime.date(2023,4,8),datetime.date(2023,4,9),datetime.date(2023,4,10),datetime.date(2023,4,11),datetime.date(2023,4,12),datetime.date(2023,4,13),datetime.date(2023,4,14),datetime.date(2023,4,15),datetime.date(2023,4,16),datetime.date(2023,4,17),datetime.date(2023,4,18),datetime.date(2023,4,19),datetime.date(2023,4,20),datetime.date(2023,4,21),datetime.date(2023,4,22),datetime.date(2023,4,23),datetime.date(2023,4,24),datetime.date(2023,4,25),datetime.date(2023,4,26),datetime.date(2023,4,27),datetime.date(2023,4,28),datetime.date(2023,4,29),datetime.date(2023,4,30),datetime.date(2023,5,1),datetime.date(2023,5,2),datetime.date(2023,5,3),datetime.date(2023,5,4),datetime.date(2023,5,5)]\n",
    "time_1 = [datetime.date(2023,2,28),datetime.date(2023,3,20),datetime.date(2023,4,16),datetime.date(2023,5,3)]\n",
    "time_2 = [datetime.date(2023,2,28),datetime.date(2023,3,20),datetime.date(2023,4,16)]\n",
    "xob = [6.35,6.39,6.50,6.57,6.66,6.72,6.80,6.85,6.92,6.96,7.02,7.05,7.09,7.12,7.13,7.15,7.17,7.17,7.17,7.16,7.14,7.13,7.10,7.07,7.03,6.99,6.93,6.89,6.84,6.79,6.71,6.65,6.52,6.49,6.38,6.30,6.22,6.13,5.99,5.85,5.75,5.75,5.75,5.75,5.75,5.75,5.75,5.75,5.75,5.75,5.75,5.75,5.75,5.75,5.75,5.75,5.75]\n",
    "tagp_true = [2114,3122,8344,12103]\n",
    "twso_true = [126,746,5105,6218]\n",
    "twst_true = [1344,1949,3142,3244]\n",
    "twlv_true = [645,426,97]\n",
    "nob = len(dob)\n",
    "total_lens=176"
   ]
  },
  {
   "cell_type": "code",
   "execution_count": 218,
   "metadata": {},
   "outputs": [],
   "source": [
    "wofsim = Wofost72_WLP_FD(parameters, weatherdataprovider, agromanagement)"
   ]
  },
  {
   "cell_type": "code",
   "execution_count": 219,
   "metadata": {
    "scrolled": true
   },
   "outputs": [
    {
     "name": "stdout",
     "output_type": "stream",
     "text": [
      "date argument for run_till() function before current model date.\n",
      "date argument for run_till() function before current model date.\n",
      "date argument for run_till() function before current model date.\n",
      "date argument for run_till() function before current model date.\n",
      "date argument for run_till() function before current model date.\n",
      "date argument for run_till() function before current model date.\n",
      "date argument for run_till() function before current model date.\n",
      "date argument for run_till() function before current model date.\n",
      "date argument for run_till() function before current model date.\n",
      "date argument for run_till() function before current model date.\n",
      "date argument for run_till() function before current model date.\n",
      "date argument for run_till() function before current model date.\n",
      "date argument for run_till() function before current model date.\n",
      "date argument for run_till() function before current model date.\n",
      "date argument for run_till() function before current model date.\n",
      "date argument for run_till() function before current model date.\n",
      "date argument for run_till() function before current model date.\n",
      "date argument for run_till() function before current model date.\n",
      "date argument for run_till() function before current model date.\n",
      "date argument for run_till() function before current model date.\n",
      "date argument for run_till() function before current model date.\n",
      "date argument for run_till() function before current model date.\n",
      "date argument for run_till() function before current model date.\n",
      "date argument for run_till() function before current model date.\n",
      "date argument for run_till() function before current model date.\n",
      "date argument for run_till() function before current model date.\n",
      "date argument for run_till() function before current model date.\n",
      "date argument for run_till() function before current model date.\n",
      "date argument for run_till() function before current model date.\n",
      "date argument for run_till() function before current model date.\n",
      "date argument for run_till() function before current model date.\n",
      "date argument for run_till() function before current model date.\n",
      "date argument for run_till() function before current model date.\n",
      "date argument for run_till() function before current model date.\n",
      "date argument for run_till() function before current model date.\n",
      "date argument for run_till() function before current model date.\n",
      "date argument for run_till() function before current model date.\n",
      "date argument for run_till() function before current model date.\n",
      "date argument for run_till() function before current model date.\n",
      "date argument for run_till() function before current model date.\n",
      "date argument for run_till() function before current model date.\n",
      "date argument for run_till() function before current model date.\n",
      "date argument for run_till() function before current model date.\n",
      "date argument for run_till() function before current model date.\n",
      "date argument for run_till() function before current model date.\n",
      "date argument for run_till() function before current model date.\n",
      "date argument for run_till() function before current model date.\n",
      "date argument for run_till() function before current model date.\n",
      "date argument for run_till() function before current model date.\n",
      "date argument for run_till() function before current model date.\n",
      "date argument for run_till() function before current model date.\n",
      "date argument for run_till() function before current model date.\n",
      "date argument for run_till() function before current model date.\n",
      "date argument for run_till() function before current model date.\n",
      "date argument for run_till() function before current model date.\n",
      "date argument for run_till() function before current model date.\n"
     ]
    }
   ],
   "source": [
    "xy = np.zeros(total_lens,float16)\n",
    "for i in range(total_lens):\n",
    "    for j in range(nob):\n",
    "        if i==di_days[j]:\n",
    "            wofsim.run_till(dob[j])\n",
    "            wofsim.set_variable('LAI',xob[j])\n",
    "    xy[i]= wofsim.get_variable('TWSO')\n",
    "    wofsim.run()\n",
    "output = wofsim.get_output()\n",
    "ds = [t[\"day\"] for t in output]\n",
    "xs =  [t[\"LAI\"] for t in output]\n",
    "dvs =  [t[\"DVS\"] for t in output]\n",
    "tagp =  [t[\"TAGP\"] for t in output]\n",
    "twso =  [t[\"TWSO\"] for t in output]"
   ]
  },
  {
   "cell_type": "code",
   "execution_count": 220,
   "metadata": {},
   "outputs": [
    {
     "data": {
      "image/png": "[encoded data removed]",
      "text/plain": [
       "<Figure size 432x288 with 1 Axes>"
      ]
     },
     "metadata": {
      "needs_background": "light"
     },
     "output_type": "display_data"
    }
   ],
   "source": [
    "plt.plot(ds,xs,'b')   \n",
    "plt.plot(dob, xob,'g*')\n",
    "plt.title(\"LAI\")\n",
    "plt.show()"
   ]
  },
  {
   "cell_type": "code",
   "execution_count": 221,
   "metadata": {},
   "outputs": [
    {
     "data": {
      "image/png": "[encoded data removed]",
      "text/plain": [
       "<Figure size 432x288 with 1 Axes>"
      ]
     },
     "metadata": {
      "needs_background": "light"
     },
     "output_type": "display_data"
    }
   ],
   "source": [
    "plt.plot(time_1, tagp_true,'g*')\n",
    "plt.plot(ds, tagp,'b')\n",
    "plt.title(\"TAGP\")\n",
    "plt.show()"
   ]
  },
  {
   "cell_type": "code",
   "execution_count": 222,
   "metadata": {},
   "outputs": [
    {
     "data": {
      "image/png": "[encoded data removed]",
      "text/plain": [
       "<Figure size 432x288 with 1 Axes>"
      ]
     },
     "metadata": {
      "needs_background": "light"
     },
     "output_type": "display_data"
    }
   ],
   "source": [
    "plt.plot(time_1, twso_true,'g*')\n",
    "plt.plot(ds, twso,'b')\n",
    "plt.title(\"TWSO\")\n",
    "plt.show()"
   ]
  },
  {
   "cell_type": "code",
   "execution_count": null,
   "metadata": {},
   "outputs": [],
   "source": []
  }
 ],
 "metadata": {
  "kernelspec": {
   "display_name": "Python 3",
   "language": "python",
   "name": "python3"
  },
  "language_info": {
   "codemirror_mode": {
    "name": "ipython",
    "version": 3
   },
   "file_extension": ".py",
   "mimetype": "text/x-python",
   "name": "python",
   "nbconvert_exporter": "python",
   "pygments_lexer": "ipython3",
   "version": "3.7.10"
  }
 },
 "nbformat": 4,
 "nbformat_minor": 4
}
